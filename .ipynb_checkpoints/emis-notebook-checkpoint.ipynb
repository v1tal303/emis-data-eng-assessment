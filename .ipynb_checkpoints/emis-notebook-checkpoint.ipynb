{
 "cells": [
  {
   "cell_type": "code",
   "execution_count": 4,
   "metadata": {},
   "outputs": [
    {
     "name": "stdout",
     "output_type": "stream",
     "text": [
      "Requirement already satisfied: pandas in c:\\users\\murci\\miniconda3\\envs\\python-cvcourse\\lib\\site-packages (1.1.5)\n",
      "Requirement already satisfied: python-dateutil>=2.7.3 in c:\\users\\murci\\miniconda3\\envs\\python-cvcourse\\lib\\site-packages (from pandas) (2.8.2)\n",
      "Requirement already satisfied: numpy>=1.15.4 in c:\\users\\murci\\miniconda3\\envs\\python-cvcourse\\lib\\site-packages (from pandas) (1.19.5)\n",
      "Requirement already satisfied: pytz>=2017.2 in c:\\users\\murci\\miniconda3\\envs\\python-cvcourse\\lib\\site-packages (from pandas) (2021.3)\n",
      "Requirement already satisfied: six>=1.5 in c:\\users\\murci\\miniconda3\\envs\\python-cvcourse\\lib\\site-packages (from python-dateutil>=2.7.3->pandas) (1.11.0)\n"
     ]
    },
    {
     "name": "stderr",
     "output_type": "stream",
     "text": [
      "mkl-random 1.0.1 requires cython, which is not installed.\n",
      "tensorflow 1.10.0 has requirement numpy<=1.14.5,>=1.13.3, but you'll have numpy 1.19.5 which is incompatible.\n",
      "tensorflow 1.10.0 has requirement setuptools<=39.1.0, but you'll have setuptools 58.0.4 which is incompatible.\n",
      "You are using pip version 10.0.1, however version 21.3.1 is available.\n",
      "You should consider upgrading via the 'python -m pip install --upgrade pip' command.\n"
     ]
    }
   ],
   "source": [
    "! pip install pandas"
   ]
  },
  {
   "cell_type": "code",
   "execution_count": 1,
   "metadata": {},
   "outputs": [],
   "source": [
    "import pandas as pd\n",
    "import glob\n",
    "import json"
   ]
  },
  {
   "cell_type": "code",
   "execution_count": 2,
   "metadata": {},
   "outputs": [
    {
     "name": "stdout",
     "output_type": "stream",
     "text": [
      "C:\\Users\\murci\\Documents\\GitHub\\emis-data-eng-assessment\\data\\Aaron697_Dickens475_8c95253e-8ee8-9ae8-6d40-021d702dc78e.json\n"
     ]
    }
   ],
   "source": [
    "path = r'C:\\Users\\murci\\Documents\\GitHub\\emis-data-eng-assessment\\data'\n",
    "all_files = glob.glob(path + \"/*.json\")\n",
    "print(all_files[0])"
   ]
  },
  {
   "cell_type": "code",
   "execution_count": 3,
   "metadata": {},
   "outputs": [],
   "source": [
    "with open(all_files[0], 'r') as f:\n",
    "  data = json.load(f)"
   ]
  },
  {
   "cell_type": "code",
   "execution_count": 4,
   "metadata": {},
   "outputs": [
    {
     "name": "stdout",
     "output_type": "stream",
     "text": [
      "Patient\n"
     ]
    }
   ],
   "source": [
    "print(data[\"entry\"][0][\"resource\"][\"resourceType\"])"
   ]
  },
  {
   "cell_type": "code",
   "execution_count": 5,
   "metadata": {
    "scrolled": true
   },
   "outputs": [
    {
     "name": "stdout",
     "output_type": "stream",
     "text": [
      "619\n"
     ]
    }
   ],
   "source": [
    "print(len(data[\"entry\"]))"
   ]
  },
  {
   "cell_type": "code",
   "execution_count": 6,
   "metadata": {},
   "outputs": [
    {
     "name": "stdout",
     "output_type": "stream",
     "text": [
      "{'Encounter', 'Condition', 'ImagingStudy', 'Provenance', 'ExplanationOfBenefit', 'CarePlan', 'Claim', 'DiagnosticReport', 'Observation', 'Immunization', 'Medication', 'MedicationAdministration', 'MedicationRequest', 'Procedure', 'CareTeam', 'Patient', 'DocumentReference'}\n"
     ]
    }
   ],
   "source": [
    "items = []\n",
    "for i in range(len(data[\"entry\"])):\n",
    "    items.append(data[\"entry\"][i][\"resource\"][\"resourceType\"])\n",
    "    \n",
    "print(set(items))"
   ]
  },
  {
   "cell_type": "code",
   "execution_count": 9,
   "metadata": {},
   "outputs": [
    {
     "name": "stdout",
     "output_type": "stream",
     "text": [
      "Collecting fhir.resources\n",
      "  Downloading https://files.pythonhosted.org/packages/15/b6/a0d2eaa925edadcf02903729a3be54d3848ee46c2559cdaaf96f4c2fcf6a/fhir.resources-6.2.1-py2.py3-none-any.whl (1.8MB)\n",
      "Collecting pydantic[email]>=1.7.2 (from fhir.resources)\n",
      "  Downloading https://files.pythonhosted.org/packages/98/34/5cc15bb0b95a29f9c9a7d11ea4c63a9b4ab40e2479ffbbef59add28bb0fa/pydantic-1.9.0-cp36-cp36m-win_amd64.whl (2.0MB)\n",
      "Requirement already satisfied: typing-extensions>=3.7.4.3 in c:\\users\\murci\\miniconda3\\envs\\python-cvcourse\\lib\\site-packages (from pydantic[email]>=1.7.2->fhir.resources) (3.10.0.2)\n",
      "Requirement already satisfied: dataclasses>=0.6; python_version < \"3.7\" in c:\\users\\murci\\miniconda3\\envs\\python-cvcourse\\lib\\site-packages (from pydantic[email]>=1.7.2->fhir.resources) (0.8)\n",
      "Collecting email-validator>=1.0.3; extra == \"email\" (from pydantic[email]>=1.7.2->fhir.resources)\n",
      "  Downloading https://files.pythonhosted.org/packages/9e/e4/e01e92092fdac940f10fa4c8ac3481bf70fc74023a76f5c72020c9445e68/email_validator-1.1.3-py2.py3-none-any.whl\n",
      "Collecting idna>=2.0.0 (from email-validator>=1.0.3; extra == \"email\"->pydantic[email]>=1.7.2->fhir.resources)\n",
      "  Using cached https://files.pythonhosted.org/packages/04/a2/d918dcd22354d8958fe113e1a3630137e0fc8b44859ade3063982eacd2a4/idna-3.3-py3-none-any.whl\n",
      "Collecting dnspython>=1.15.0 (from email-validator>=1.0.3; extra == \"email\"->pydantic[email]>=1.7.2->fhir.resources)\n",
      "  Downloading https://files.pythonhosted.org/packages/90/ad/013786c1a6ffa9de70bcd852c8a40e8798e25d823ce8497d907e6cd450da/dnspython-2.2.0-py3-none-any.whl (266kB)\n",
      "Installing collected packages: idna, dnspython, email-validator, pydantic, fhir.resources\n",
      "Successfully installed dnspython-2.2.0 email-validator-1.1.3 fhir.resources-6.2.1 idna-3.3 pydantic-1.9.0\n"
     ]
    },
    {
     "name": "stderr",
     "output_type": "stream",
     "text": [
      "mkl-random 1.0.1 requires cython, which is not installed.\n",
      "tensorflow 1.10.0 has requirement numpy<=1.14.5,>=1.13.3, but you'll have numpy 1.19.5 which is incompatible.\n",
      "tensorflow 1.10.0 has requirement setuptools<=39.1.0, but you'll have setuptools 58.0.4 which is incompatible.\n",
      "You are using pip version 10.0.1, however version 21.3.1 is available.\n",
      "You should consider upgrading via the 'python -m pip install --upgrade pip' command.\n"
     ]
    }
   ],
   "source": [
    "! pip install fhir.resources"
   ]
  },
  {
   "cell_type": "code",
   "execution_count": 11,
   "metadata": {},
   "outputs": [
    {
     "name": "stdout",
     "output_type": "stream",
     "text": [
      "Collecting tqdm\n",
      "  Downloading https://files.pythonhosted.org/packages/63/f3/b7a1b8e40fd1bd049a34566eb353527bb9b8e9b98f8b6cf803bb64d8ce95/tqdm-4.62.3-py2.py3-none-any.whl (76kB)\n",
      "Requirement already satisfied: colorama; platform_system == \"Windows\" in c:\\users\\murci\\miniconda3\\envs\\python-cvcourse\\lib\\site-packages (from tqdm) (0.4.4)\n",
      "Installing collected packages: tqdm\n",
      "Successfully installed tqdm-4.62.3\n"
     ]
    },
    {
     "name": "stderr",
     "output_type": "stream",
     "text": [
      "mkl-random 1.0.1 requires cython, which is not installed.\n",
      "tensorflow 1.10.0 has requirement numpy<=1.14.5,>=1.13.3, but you'll have numpy 1.19.5 which is incompatible.\n",
      "tensorflow 1.10.0 has requirement setuptools<=39.1.0, but you'll have setuptools 58.0.4 which is incompatible.\n",
      "You are using pip version 10.0.1, however version 21.3.1 is available.\n",
      "You should consider upgrading via the 'python -m pip install --upgrade pip' command.\n"
     ]
    }
   ],
   "source": [
    "!pip install tqdm"
   ]
  },
  {
   "cell_type": "code",
   "execution_count": 12,
   "metadata": {},
   "outputs": [
    {
     "name": "stdout",
     "output_type": "stream",
     "text": [
      "79\n"
     ]
    }
   ],
   "source": [
    "import numpy as np  \n",
    "import pandas as pd \n",
    "import json\n",
    "from datetime import date\n",
    "from tqdm.auto import tqdm\n",
    "tqdm.pandas()\n",
    "\n",
    "from fhir.resources.bundle import Bundle\n",
    "from fhir.resources.patient import Patient\n",
    "from fhir.resources.condition import Condition\n",
    "from fhir.resources.observation import Observation\n",
    "from fhir.resources.medicationrequest import MedicationRequest\n",
    "from fhir.resources.procedure import Procedure\n",
    "from fhir.resources.encounter import Encounter\n",
    "from fhir.resources.claim import Claim\n",
    "from fhir.resources.immunization import Immunization\n",
    "\n",
    "import os\n",
    "path = r'C:\\Users\\murci\\Documents\\GitHub\\emis-data-eng-assessment\\data'\n",
    "all_files = glob.glob(path + \"/*.json\")\n",
    "print(len(all_files))"
   ]
  },
  {
   "cell_type": "code",
   "execution_count": 147,
   "metadata": {},
   "outputs": [],
   "source": [
    "PATIENT = pd.DataFrame(columns=['PatientUID', 'NameFamily', 'NameGiven', 'DoB', 'Gender'])\n",
    "CONDITION = pd.DataFrame(columns=['ConditionText', 'ConditionOnsetDates', 'PatientUID'])\n",
    "OBSERVATION = pd.DataFrame(columns=['ObservationText', 'ObservationValue', 'ObservationUnit',\n",
    "       'ObservationDate', 'PatientUID'])\n",
    "MEDICATION = pd.DataFrame(columns=['MedicationText', 'MedicationDates', 'PatientUID'])\n",
    "PROCEDURE = pd.DataFrame(columns=['ProcedureText', 'ProcedureDates', 'PatientUID'])\n",
    "ENCOUNTER = pd.DataFrame(columns=['EncountersText', 'EncounterLocation', 'EncounterProvider','EncounterDates', 'PatientUID'])\n",
    "CLAIM = pd.DataFrame(columns=['ClaimProvider', 'ClaimInsurance', 'ClaimDate', 'ClaimType','ClaimItem', \n",
    "                              'ClaimUSD', 'PatientUID'])\n",
    "IMMUNIZATION = pd.DataFrame(columns=['Immunization', 'ImmunizationDates', 'PatientUID'])"
   ]
  },
  {
   "cell_type": "code",
   "execution_count": 132,
   "metadata": {},
   "outputs": [
    {
     "name": "stdout",
     "output_type": "stream",
     "text": [
      "<class 'fhir.resources.patient.Patient'>\n"
     ]
    }
   ],
   "source": [
    "print(type(resources[0]))"
   ]
  },
  {
   "cell_type": "code",
   "execution_count": null,
   "metadata": {},
   "outputs": [],
   "source": []
  }
 ],
 "metadata": {
  "kernelspec": {
   "display_name": "Python 3",
   "language": "python",
   "name": "python3"
  },
  "language_info": {
   "codemirror_mode": {
    "name": "ipython",
    "version": 3
   },
   "file_extension": ".py",
   "mimetype": "text/x-python",
   "name": "python",
   "nbconvert_exporter": "python",
   "pygments_lexer": "ipython3",
   "version": "3.6.6"
  }
 },
 "nbformat": 4,
 "nbformat_minor": 2
}
